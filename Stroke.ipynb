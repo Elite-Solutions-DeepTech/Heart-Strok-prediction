{
  "nbformat": 4,
  "nbformat_minor": 0,
  "metadata": {
    "colab": {
      "provenance": []
    },
    "kernelspec": {
      "name": "python3",
      "display_name": "Python 3"
    },
    "language_info": {
      "name": "python"
    }
  },
  "cells": [
    {
      "cell_type": "code",
      "execution_count": null,
      "metadata": {
        "id": "ba7QqtvuHv_H",
        "colab": {
          "base_uri": "https://localhost:8080/"
        },
        "outputId": "1e4dd4b9-a39d-4d2c-dc3e-9b9749615e6e"
      },
      "outputs": [
        {
          "output_type": "stream",
          "name": "stdout",
          "text": [
            "          ID  Gender   Age  Hypertension  Heart_Disease Ever_Married  \\\n",
            "0      30669    Male   3.0             0              0           No   \n",
            "1      30468    Male  58.0             1              0          Yes   \n",
            "2      16523  Female   8.0             0              0           No   \n",
            "3      56543  Female  70.0             0              0          Yes   \n",
            "4      46136    Male  14.0             0              0           No   \n",
            "...      ...     ...   ...           ...            ...          ...   \n",
            "43395  56196  Female  10.0             0              0           No   \n",
            "43396   5450  Female  56.0             0              0          Yes   \n",
            "43397  28375  Female  82.0             1              0          Yes   \n",
            "43398  27973    Male  40.0             0              0          Yes   \n",
            "43399  36271  Female  82.0             0              0          Yes   \n",
            "\n",
            "          Work_Type Residence_Type  Avg_Glucose_Level   BMI   Smoking_Status  \\\n",
            "0          children          Rural              95.12  18.0              NaN   \n",
            "1           Private          Urban              87.96  39.2     never smoked   \n",
            "2           Private          Urban             110.89  17.6              NaN   \n",
            "3           Private          Rural              69.04  35.9  formerly smoked   \n",
            "4      Never_worked          Rural             161.28  19.1              NaN   \n",
            "...             ...            ...                ...   ...              ...   \n",
            "43395      children          Urban              58.64  20.4     never smoked   \n",
            "43396      Govt_job          Urban             213.61  55.4  formerly smoked   \n",
            "43397       Private          Urban              91.94  28.9  formerly smoked   \n",
            "43398       Private          Urban              99.16  33.2     never smoked   \n",
            "43399       Private          Urban              79.48  20.6     never smoked   \n",
            "\n",
            "       Stroke  \n",
            "0           0  \n",
            "1           0  \n",
            "2           0  \n",
            "3           0  \n",
            "4           0  \n",
            "...       ...  \n",
            "43395       0  \n",
            "43396       0  \n",
            "43397       0  \n",
            "43398       0  \n",
            "43399       0  \n",
            "\n",
            "[43400 rows x 12 columns]\n",
            "        Age\n",
            "0       3.0\n",
            "1      58.0\n",
            "2       8.0\n",
            "3      70.0\n",
            "4      14.0\n",
            "...     ...\n",
            "43395  10.0\n",
            "43396  56.0\n",
            "43397  82.0\n",
            "43398  40.0\n",
            "43399  82.0\n",
            "\n",
            "[43400 rows x 1 columns]\n",
            "0        0\n",
            "1        0\n",
            "2        0\n",
            "3        0\n",
            "4        0\n",
            "        ..\n",
            "43395    0\n",
            "43396    0\n",
            "43397    0\n",
            "43398    0\n",
            "43399    0\n",
            "Name: Stroke, Length: 43400, dtype: int64\n"
          ]
        },
        {
          "output_type": "execute_result",
          "data": {
            "text/plain": [
              "Index(['ID', 'Gender', 'Age', 'Hypertension', 'Heart_Disease', 'Ever_Married',\n",
              "       'Work_Type', 'Residence_Type', 'Avg_Glucose_Level', 'BMI',\n",
              "       'Smoking_Status', 'Stroke'],\n",
              "      dtype='object')"
            ]
          },
          "metadata": {},
          "execution_count": 6
        }
      ],
      "source": [
        "import numpy as np\n",
        "import pandas as pd\n",
        "import matplotlib.pyplot as plt\n",
        "from sklearn.preprocessing import LabelEncoder\n",
        "from sklearn.model_selection import train_test_split\n",
        "from sklearn.impute import SimpleImputer\n",
        "from sklearn.linear_model import LogisticRegression\n",
        "\n",
        "\n",
        "variable = pd.read_csv('/content/Stroke.csv')\n",
        "print(variable)\n",
        "\n",
        "\n",
        "x = variable[['Age']]\n",
        "y = variable.iloc[:, -1]\n",
        "print(x)\n",
        "print(y)\n",
        "variable.columns"
      ]
    },
    {
      "cell_type": "code",
      "source": [
        "\n"
      ],
      "metadata": {
        "id": "Iy_8Xuh01sE6"
      },
      "execution_count": null,
      "outputs": []
    },
    {
      "cell_type": "code",
      "source": [
        "\n",
        "imputer = SimpleImputer(strategy='mean')\n",
        "x_imputed = imputer.fit_transform(x)\n",
        "\n",
        "\n",
        "x_train, x_test, y_train, y_test = train_test_split(x_imputed, y, test_size=0.2, random_state=42)\n",
        "print(x_train.shape)\n",
        "print(y_train.shape)\n",
        "print(x_test.shape)\n",
        "print(y_test.shape)\n",
        "\n"
      ],
      "metadata": {
        "colab": {
          "base_uri": "https://localhost:8080/"
        },
        "id": "xRe7KjwT1nio",
        "outputId": "71c35c59-4ff1-4d76-898a-2844b4092127"
      },
      "execution_count": null,
      "outputs": [
        {
          "output_type": "stream",
          "name": "stdout",
          "text": [
            "(34720, 1)\n",
            "(34720,)\n",
            "(8680, 1)\n",
            "(8680,)\n"
          ]
        }
      ]
    },
    {
      "cell_type": "code",
      "source": [
        "\n",
        "alg = LogisticRegression()\n",
        "alg.fit(x_train, y_train)\n",
        "\n",
        "\n",
        "m = alg.coef_[0][0]\n",
        "c = alg.intercept_[0]\n"
      ],
      "metadata": {
        "id": "RA2w_Gpi12ET"
      },
      "execution_count": null,
      "outputs": []
    },
    {
      "cell_type": "code",
      "source": [
        "x_line = np.arange(x_train.min(), x_train.max(), 0.1)\n",
        "y_line = 1 / (1 + np.exp(-(m * x_line + c)))  # logistic Sigmoid function\n",
        "\n",
        "plt.plot(x_line, y_line, )\n",
        "#plt.scatter(x_train, y_train, label='Training Data', edgecolors='k', marker='o')\n",
        "\n",
        "\n",
        "print('Training Score:', alg.score(x_train, y_train))\n",
        "print('Testing Score:', alg.score(x_test, y_test))\n"
      ],
      "metadata": {
        "colab": {
          "base_uri": "https://localhost:8080/",
          "height": 465
        },
        "id": "WcHFqz_D1xUq",
        "outputId": "cbd7c371-8470-4c49-da22-947bbccc4e60"
      },
      "execution_count": null,
      "outputs": [
        {
          "output_type": "stream",
          "name": "stdout",
          "text": [
            "Training Score: 0.9820852534562212\n",
            "Testing Score: 0.9814516129032258\n"
          ]
        },
        {
          "output_type": "display_data",
          "data": {
            "text/plain": [
              "<Figure size 640x480 with 1 Axes>"
            ],
            "image/png": "[encoded data removed]"
          },
          "metadata": {}
        }
      ]
    }
  ]
}